{
 "cells": [
  {
   "cell_type": "code",
   "execution_count": 1,
   "metadata": {},
   "outputs": [],
   "source": [
    "import scanpy as sc\n",
    "import numpy as np\n",
    "import pandas as pd\n",
    "import re\n",
    "import os\n",
    "import warnings\n",
    "\n",
    "# Suppress all warnings\n",
    "warnings.filterwarnings('ignore')"
   ]
  },
  {
   "cell_type": "markdown",
   "metadata": {},
   "source": [
    "A minimal pre-process takes place before pooling the samples together."
   ]
  },
  {
   "cell_type": "code",
   "execution_count": 2,
   "metadata": {},
   "outputs": [
    {
     "data": {
      "text/plain": [
       "['GSM3377675_sample3h.csv',\n",
       " 'GSM3377682_sample4m.csv',\n",
       " 'GSM3377678_sample6h.csv',\n",
       " 'GSM3377679_sample1m.csv',\n",
       " 'GSM3377681_sample3m.csv',\n",
       " 'GSE119562_RAW.tar',\n",
       " 'GSM3377676_sample4h.csv',\n",
       " 'pooled_data',\n",
       " 'GSM3377677_sample5h.csv',\n",
       " 'GSM3377680_sample2m.csv',\n",
       " 'GSM3377684_sample6m.csv',\n",
       " 'mouse_pooled.h5ad',\n",
       " 'GSM3377683_sample5m.csv',\n",
       " 'GSM3377673_sample1h.csv',\n",
       " 'mouse_all_pooled.h5ad',\n",
       " 'GSM3377674_sample2h.csv']"
      ]
     },
     "execution_count": 2,
     "metadata": {},
     "output_type": "execute_result"
    }
   ],
   "source": [
    "os.listdir(\"../data/\")"
   ]
  },
  {
   "cell_type": "markdown",
   "metadata": {},
   "source": [
    "We aim to create 3 different datasets for our analysis.\n",
    "\n",
    "- Mouse samples for both spleen and blood (every sample that contains 'm.')\n",
    "- Spleen mouse samples (1m, 2m, 3m)\n",
    "- Blood mouse samples (4m, 5m, 6m)"
   ]
  },
  {
   "cell_type": "code",
   "execution_count": 3,
   "metadata": {},
   "outputs": [],
   "source": [
    "def pooling_preprocess(sample, human=False, tissuewise=False):\n",
    "\n",
    "    data_path = \"../data/\"\n",
    "    adata = sc.read_csv(data_path+sample).T\n",
    "    sample_id = sample.split(\"_\")[1][6:8]\n",
    "    \n",
    "    # add a new feature showing the origin of the sample\n",
    "    if tissuewise:\n",
    "        if sample_id in ['1m', '2m', '3m', '1h', '2h', '3h']:\n",
    "            adata.obs['sample'] = 'spleen'\n",
    "        else:\n",
    "            adata.obs['sample'] = 'blood'\n",
    "    else:\n",
    "        adata.obs['sample'] = sample_id\n",
    "\n",
    "    sc.pp.filter_genes(adata, min_cells=10)\n",
    "    sc.pp.filter_cells(adata, min_genes=100)\n",
    "\n",
    "    if human:\n",
    "\n",
    "        # mitochondrial genes\n",
    "        adata.var[\"mt\"] = adata.var_names.str.startswith(\"MT-\")\n",
    "\n",
    "        # ribosomal genes\n",
    "        ribo_url = \"http://software.broadinstitute.org/gsea/msigdb/download_geneset.jsp?geneSetName=KEGG_RIBOSOME&fileType=txt\"\n",
    "        ribo_genes = pd.read_table(ribo_url, skiprows=2, header=None)\n",
    "        adata.var['ribo'] = adata.var_names.isin(ribo_genes[0].values)\n",
    "\n",
    "        sc.pp.calculate_qc_metrics(adata=adata, qc_vars=[\"mt\", \"ribo\"], percent_top=None, log1p=False, inplace=True)\n",
    "\n",
    "        mt_median = np.median(adata.obs.pct_counts_mt.values)\n",
    "        mt_std = np.std(adata.obs.pct_counts_mt.values)\n",
    "        upper_lim_mt = mt_median + 5 * mt_std\n",
    "        adata = adata[adata.obs.pct_counts_mt.values < upper_lim_mt]\n",
    "\n",
    "        rb_median = np.median(adata.obs.pct_counts_ribo.values)\n",
    "        rb_std = np.std(adata.obs.pct_counts_ribo.values)\n",
    "        upper_lim_rb = rb_median + 5 * rb_std\n",
    "        adata = adata[adata.obs.pct_counts_ribo.values < upper_lim_rb]\n",
    "\n",
    "    return adata"
   ]
  },
  {
   "cell_type": "markdown",
   "metadata": {},
   "source": [
    "**Pooling of mouse samples**\n",
    "\n",
    "During this process, a new attibute is created in `adata` with the name `sample`. The column is filled depending on the mouse the samples originate from (1m, 2m, 3m, 4m, 5m, 6m)."
   ]
  },
  {
   "cell_type": "code",
   "execution_count": 4,
   "metadata": {},
   "outputs": [],
   "source": [
    "mouse_samples_all = []\n",
    "\n",
    "for sample in os.listdir(\"../data/\"):\n",
    "    if 'm.' in sample: # this indicates the mouse sample\n",
    "        adata = pooling_preprocess(sample)\n",
    "        mouse_samples_all.append(adata)\n",
    "\n",
    "mouse_adata_all = sc.concat(mouse_samples_all)\n",
    "mouse_adata_all.obs_names_make_unique()\n",
    "# Export the sample\n",
    "mouse_adata_all.write_h5ad(\"../data/pooled_data/mouse_donorwise_pooled.h5ad\")"
   ]
  },
  {
   "cell_type": "markdown",
   "metadata": {},
   "source": [
    "**Pooling of mouse samples**"
   ]
  },
  {
   "cell_type": "code",
   "execution_count": 5,
   "metadata": {},
   "outputs": [
    {
     "name": "stdout",
     "output_type": "stream",
     "text": [
      "This is the pooled dataset for mouse, there is a column specifing whether the sample originates from spleen or blood\n",
      "AnnData object with n_obs × n_vars = 8215 × 7760\n",
      "    obs: 'sample', 'n_genes'\n"
     ]
    }
   ],
   "source": [
    "mouse_samples = []\n",
    "\n",
    "for sample in os.listdir(\"../data/\"):\n",
    "    if 'm.' in sample: # this indicates the mouse sample\n",
    "        adata = pooling_preprocess(sample, tissuewise=True)\n",
    "        mouse_samples.append(adata)\n",
    "\n",
    "mouse_adata = sc.concat(mouse_samples)\n",
    "\n",
    "print(\"This is the pooled dataset for mouse, there is a column specifing whether the sample originates from spleen or blood\")\n",
    "print(mouse_adata)\n",
    "\n",
    "mouse_adata.obs_names_make_unique()\n",
    "\n",
    "# Export the sample\n",
    "mouse_adata.write_h5ad(\"../data/pooled_data/mouse_tissuewise_pooled.h5ad\")"
   ]
  },
  {
   "cell_type": "markdown",
   "metadata": {},
   "source": [
    "**Pool of blood samples from mice**"
   ]
  },
  {
   "cell_type": "code",
   "execution_count": 6,
   "metadata": {},
   "outputs": [
    {
     "data": {
      "text/plain": [
       "['GSM3377682_sample4m.csv',\n",
       " 'GSM3377684_sample6m.csv',\n",
       " 'GSM3377683_sample5m.csv']"
      ]
     },
     "execution_count": 6,
     "metadata": {},
     "output_type": "execute_result"
    }
   ],
   "source": [
    "# Get the blood samples with a regular expression\n",
    "blood_pattern = re.compile(r'[456][m]')\n",
    "blood_csv = [dt for dt in os.listdir(\"../data/\") if blood_pattern.search(dt)]\n",
    "blood_csv"
   ]
  },
  {
   "cell_type": "code",
   "execution_count": 7,
   "metadata": {},
   "outputs": [
    {
     "name": "stdout",
     "output_type": "stream",
     "text": [
      "Individual datasets before integration\n",
      "[AnnData object with n_obs × n_vars = 1109 × 8023\n",
      "    obs: 'sample', 'n_genes'\n",
      "    var: 'n_cells', AnnData object with n_obs × n_vars = 1610 × 9205\n",
      "    obs: 'sample', 'n_genes'\n",
      "    var: 'n_cells', AnnData object with n_obs × n_vars = 1223 × 9136\n",
      "    obs: 'sample', 'n_genes'\n",
      "    var: 'n_cells']\n",
      "AnnData object with n_obs × n_vars = 3942 × 7935\n",
      "    obs: 'sample', 'n_genes'\n"
     ]
    }
   ],
   "source": [
    "blood_samples = []\n",
    "\n",
    "for sample in blood_csv:\n",
    "        adata = pooling_preprocess(sample)\n",
    "        blood_samples.append(adata)\n",
    "\n",
    "print(\"Individual datasets before integration\")\n",
    "print(blood_samples)\n",
    "\n",
    "blood_adata = sc.concat(blood_samples)\n",
    "blood_adata.obs_names_make_unique()\n",
    "print(blood_adata)\n",
    "\n",
    "# Export the sample\n",
    "blood_adata.write_h5ad(\"../data/pooled_data/blood_mouse.h5ad\")"
   ]
  },
  {
   "cell_type": "markdown",
   "metadata": {},
   "source": [
    "**Pool spleen samples from mice**"
   ]
  },
  {
   "cell_type": "code",
   "execution_count": 8,
   "metadata": {},
   "outputs": [
    {
     "data": {
      "text/plain": [
       "['GSM3377679_sample1m.csv',\n",
       " 'GSM3377681_sample3m.csv',\n",
       " 'GSM3377680_sample2m.csv']"
      ]
     },
     "execution_count": 8,
     "metadata": {},
     "output_type": "execute_result"
    }
   ],
   "source": [
    "mouse_spleen_pattern = re.compile(r'[123][m]')\n",
    "mouse_spleen = [dt for dt in os.listdir(\"../data/\") if mouse_spleen_pattern.search(dt)]\n",
    "mouse_spleen"
   ]
  },
  {
   "cell_type": "code",
   "execution_count": 9,
   "metadata": {},
   "outputs": [
    {
     "name": "stdout",
     "output_type": "stream",
     "text": [
      "Individual datasets before integration\n",
      "[AnnData object with n_obs × n_vars = 1759 × 8870\n",
      "    obs: 'sample', 'n_genes'\n",
      "    var: 'n_cells', AnnData object with n_obs × n_vars = 1081 × 9202\n",
      "    obs: 'sample', 'n_genes'\n",
      "    var: 'n_cells', AnnData object with n_obs × n_vars = 1433 × 9148\n",
      "    obs: 'sample', 'n_genes'\n",
      "    var: 'n_cells']\n",
      "Adata after integration\n",
      "AnnData object with n_obs × n_vars = 4273 × 8521\n",
      "    obs: 'sample', 'n_genes'\n"
     ]
    }
   ],
   "source": [
    "mouse_sp_samples = []\n",
    "\n",
    "for sample in mouse_spleen:\n",
    "        adata = pooling_preprocess(sample, human=False)\n",
    "        mouse_sp_samples.append(adata)\n",
    "\n",
    "print(\"Individual datasets before integration\")\n",
    "print(mouse_sp_samples)\n",
    "\n",
    "mouse_spleen_adata = sc.concat(mouse_sp_samples)\n",
    "print(\"Adata after integration\")\n",
    "print(mouse_spleen_adata)\n",
    "\n",
    "mouse_spleen_adata.obs_names_make_unique()\n",
    "\n",
    "mouse_spleen_adata.write_h5ad(\"../data/pooled_data/spleen_mouse.h5ad\")"
   ]
  }
 ],
 "metadata": {
  "kernelspec": {
   "display_name": "sc_project",
   "language": "python",
   "name": "python3"
  },
  "language_info": {
   "codemirror_mode": {
    "name": "ipython",
    "version": 3
   },
   "file_extension": ".py",
   "mimetype": "text/x-python",
   "name": "python",
   "nbconvert_exporter": "python",
   "pygments_lexer": "ipython3",
   "version": "3.11.7"
  }
 },
 "nbformat": 4,
 "nbformat_minor": 2
}
